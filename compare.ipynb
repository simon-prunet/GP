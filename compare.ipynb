{
 "cells": [
  {
   "cell_type": "markdown",
   "id": "d3d907eb",
   "metadata": {},
   "source": [
    "# Compare GP solvers"
   ]
  },
  {
   "cell_type": "code",
   "execution_count": 8,
   "id": "4bbef3d3",
   "metadata": {},
   "outputs": [],
   "source": [
    "import numpy as np\n",
    "import matplotlib.pyplot as pl\n",
    "\n",
    "np.random.seed(1234)\n",
    "x = np.sort(np.random.uniform(0, 10, 50000))\n",
    "yerr = 0.1 * np.ones_like(x)\n",
    "y = np.sin(x)\n",
    "\n",
    "n = 10000"
   ]
  },
  {
   "cell_type": "markdown",
   "id": "07313cd8",
   "metadata": {},
   "source": [
    "### george GP"
   ]
  },
  {
   "cell_type": "code",
   "execution_count": 9,
   "id": "d68b9d87",
   "metadata": {},
   "outputs": [
    {
     "name": "stdout",
     "output_type": "stream",
     "text": [
      "3.57 s ± 23.5 ms per loop (mean ± std. dev. of 7 runs, 1 loop each)\n",
      "13811.700746056806\n"
     ]
    }
   ],
   "source": [
    "import george\n",
    "from george import kernels\n",
    "kernel = np.var(y) * kernels.ExpSquaredKernel(1.0)\n",
    "\n",
    "gp_basic = george.GP(kernel)\n",
    "%timeit gp_basic.compute(x[:n], yerr[:n])\n",
    "print(gp_basic.lnlikelihood(y[:n]))"
   ]
  },
  {
   "cell_type": "markdown",
   "id": "6c207cd3",
   "metadata": {},
   "source": [
    "### george fast GP solver"
   ]
  },
  {
   "cell_type": "code",
   "execution_count": 5,
   "id": "e29dd42f",
   "metadata": {},
   "outputs": [
    {
     "name": "stdout",
     "output_type": "stream",
     "text": [
      "3.6 ms ± 241 µs per loop (mean ± std. dev. of 7 runs, 100 loops each)\n",
      "1374.571335372935\n"
     ]
    }
   ],
   "source": [
    "n_big = n\n",
    "gp_hodlr = george.GP(kernel, solver=george.HODLRSolver)\n",
    "%timeit gp_hodlr.compute(x[:n_big], yerr[:n_big])\n",
    "print(gp_hodlr.lnlikelihood(y[:n_big]))\n"
   ]
  },
  {
   "cell_type": "markdown",
   "id": "a986319d",
   "metadata": {},
   "source": [
    "### scikit-learn equivalent (without hyperparameter tuning)"
   ]
  },
  {
   "cell_type": "code",
   "execution_count": 7,
   "id": "5831734e",
   "metadata": {},
   "outputs": [
    {
     "name": "stdout",
     "output_type": "stream",
     "text": [
      "sklearn version: 1.2.2\n",
      "37.6 ms ± 1.01 ms per loop (mean ± std. dev. of 7 runs, 10 loops each)\n",
      "1374.5708082218775\n"
     ]
    }
   ],
   "source": [
    "import sklearn\n",
    "print(\"sklearn version: {0}\".format(sklearn.__version__))\n",
    "from sklearn.gaussian_process.kernels import RBF\n",
    "from sklearn.gaussian_process import GaussianProcessRegressor\n",
    "\n",
    "kernel_skl = np.var(y) * RBF(length_scale=1.0)\n",
    "gp_skl = GaussianProcessRegressor(kernel_skl,\n",
    "                                  alpha=yerr[:n]**2,\n",
    "                                  optimizer=None,\n",
    "                                  # optimizer='fmin_l_bfgs_b',\n",
    "                                  copy_X_train=False)\n",
    "%timeit gp_skl.fit(x[:n, None], y[:n])\n",
    "print(gp_skl.log_marginal_likelihood(kernel_skl.theta))"
   ]
  },
  {
   "cell_type": "code",
   "execution_count": null,
   "id": "48cafd6e",
   "metadata": {},
   "outputs": [],
   "source": []
  }
 ],
 "metadata": {
  "kernelspec": {
   "display_name": "Python 3 (ipykernel)",
   "language": "python",
   "name": "python3"
  },
  "language_info": {
   "codemirror_mode": {
    "name": "ipython",
    "version": 3
   },
   "file_extension": ".py",
   "mimetype": "text/x-python",
   "name": "python",
   "nbconvert_exporter": "python",
   "pygments_lexer": "ipython3",
   "version": "3.9.13"
  }
 },
 "nbformat": 4,
 "nbformat_minor": 5
}
